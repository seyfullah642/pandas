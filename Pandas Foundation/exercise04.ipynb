{
 "cells": [
  {
   "cell_type": "code",
   "execution_count": 2,
   "metadata": {},
   "outputs": [],
   "source": [
    "import pandas as pd\n",
    "import numpy as np"
   ]
  },
  {
   "cell_type": "code",
   "execution_count": 3,
   "metadata": {},
   "outputs": [],
   "source": [
    "movies = pd.read_csv('../data/movie.csv')"
   ]
  },
  {
   "cell_type": "code",
   "execution_count": 4,
   "metadata": {},
   "outputs": [],
   "source": [
    "fb_likes = movies['actor_1_facebook_likes']\n",
    "director = movies['director_name']"
   ]
  },
  {
   "cell_type": "code",
   "execution_count": 6,
   "metadata": {},
   "outputs": [
    {
     "data": {
      "text/plain": [
       "Steven Spielberg    26\n",
       "Woody Allen         22\n",
       "Clint Eastwood      20\n",
       "Name: director_name, dtype: int64"
      ]
     },
     "execution_count": 6,
     "metadata": {},
     "output_type": "execute_result"
    }
   ],
   "source": [
    "director.value_counts().head(3)"
   ]
  },
  {
   "cell_type": "code",
   "execution_count": 9,
   "metadata": {},
   "outputs": [
    {
     "data": {
      "text/plain": [
       "7"
      ]
     },
     "execution_count": 9,
     "metadata": {},
     "output_type": "execute_result"
    }
   ],
   "source": [
    "fb_likes.isna().sum()"
   ]
  },
  {
   "cell_type": "code",
   "execution_count": 10,
   "metadata": {},
   "outputs": [
    {
     "data": {
      "text/plain": [
       "dtype('float64')"
      ]
     },
     "execution_count": 10,
     "metadata": {},
     "output_type": "execute_result"
    }
   ],
   "source": [
    "fb_likes.dtypes"
   ]
  },
  {
   "cell_type": "code",
   "execution_count": 19,
   "metadata": {},
   "outputs": [
    {
     "data": {
      "text/plain": [
       "0     1000\n",
       "1    40000\n",
       "2    11000\n",
       "3    27000\n",
       "4      131\n",
       "Name: actor_1_facebook_likes, dtype: int64"
      ]
     },
     "execution_count": 19,
     "metadata": {},
     "output_type": "execute_result"
    }
   ],
   "source": [
    "(\n",
    "    fb_likes.fillna(0)\n",
    "     .astype(int)\n",
    "     .head()\n",
    ")"
   ]
  },
  {
   "cell_type": "code",
   "execution_count": 13,
   "metadata": {},
   "outputs": [
    {
     "data": {
      "text/plain": [
       "0        1000.0\n",
       "1       40000.0\n",
       "2       11000.0\n",
       "3       27000.0\n",
       "4         131.0\n",
       "         ...   \n",
       "4911      637.0\n",
       "4912      841.0\n",
       "4913        0.0\n",
       "4914      946.0\n",
       "4915       86.0\n",
       "Name: actor_1_facebook_likes, Length: 4916, dtype: float64"
      ]
     },
     "execution_count": 13,
     "metadata": {},
     "output_type": "execute_result"
    }
   ],
   "source": [
    "fb_likes"
   ]
  },
  {
   "cell_type": "code",
   "execution_count": 28,
   "metadata": {},
   "outputs": [
    {
     "name": "stdout",
     "output_type": "stream",
     "text": [
      "BEFORE\n",
      "0        1000.0\n",
      "1       40000.0\n",
      "2       11000.0\n",
      "3       27000.0\n",
      "4         131.0\n",
      "         ...   \n",
      "4911      637.0\n",
      "4912      841.0\n",
      "4913        0.0\n",
      "4914      946.0\n",
      "4915       86.0\n",
      "Name: actor_1_facebook_likes, Length: 4916, dtype: float64\n",
      "After\n"
     ]
    },
    {
     "data": {
      "text/plain": [
       "0     1000\n",
       "1    40000\n",
       "2    11000\n",
       "3    27000\n",
       "4      131\n",
       "Name: actor_1_facebook_likes, dtype: int64"
      ]
     },
     "execution_count": 28,
     "metadata": {},
     "output_type": "execute_result"
    }
   ],
   "source": [
    "def debug_ser(ser):\n",
    "    print('BEFORE')\n",
    "    print(ser)\n",
    "    print('After')\n",
    "    return ser\n",
    "    \n",
    "fb_likes.fillna(0).pipe(debug_ser).astype(int).head()"
   ]
  },
  {
   "cell_type": "code",
   "execution_count": 26,
   "metadata": {},
   "outputs": [
    {
     "data": {
      "text/plain": [
       "0        1000.0\n",
       "1       40000.0\n",
       "2       11000.0\n",
       "3       27000.0\n",
       "4         131.0\n",
       "         ...   \n",
       "4911      637.0\n",
       "4912      841.0\n",
       "4913        0.0\n",
       "4914      946.0\n",
       "4915       86.0\n",
       "Name: actor_1_facebook_likes, Length: 4916, dtype: float64"
      ]
     },
     "execution_count": 26,
     "metadata": {},
     "output_type": "execute_result"
    }
   ],
   "source": [
    "intermediate = None\n",
    "def get_intermediate(ser):\n",
    "    global intermediate\n",
    "    intermediate = ser\n",
    "    return ser\n",
    "\n",
    "res = (\n",
    "    fb_likes.fillna(0)\n",
    "    .pipe(get_intermediate)\n",
    "    .astype(int)\n",
    "    .head()\n",
    ")\n",
    "\n",
    "intermediate"
   ]
  },
  {
   "cell_type": "code",
   "execution_count": null,
   "metadata": {},
   "outputs": [],
   "source": []
  }
 ],
 "metadata": {
  "kernelspec": {
   "display_name": "Python 3",
   "language": "python",
   "name": "python3"
  },
  "language_info": {
   "codemirror_mode": {
    "name": "ipython",
    "version": 3
   },
   "file_extension": ".py",
   "mimetype": "text/x-python",
   "name": "python",
   "nbconvert_exporter": "python",
   "pygments_lexer": "ipython3",
   "version": "3.8.5"
  }
 },
 "nbformat": 4,
 "nbformat_minor": 4
}
